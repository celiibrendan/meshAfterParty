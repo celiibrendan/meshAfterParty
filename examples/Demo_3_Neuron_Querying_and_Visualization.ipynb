{
 "cells": [
  {
   "cell_type": "code",
   "execution_count": 1,
   "metadata": {},
   "outputs": [
    {
     "data": {
      "text/plain": [
       "'\\nPurpose: To show how ot query a neruon and then visualize the results\\n'"
      ]
     },
     "execution_count": 1,
     "metadata": {},
     "output_type": "execute_result"
    }
   ],
   "source": [
    "\"\"\"\n",
    "Purpose: To show how ot query a neruon and then visualize the results\n",
    "\"\"\""
   ]
  },
  {
   "cell_type": "code",
   "execution_count": 2,
   "metadata": {},
   "outputs": [],
   "source": [
    "from os import sys\n",
    "sys.path.append(\"../meshAfterParty\")"
   ]
  },
  {
   "cell_type": "code",
   "execution_count": 3,
   "metadata": {},
   "outputs": [],
   "source": [
    "import neuron\n",
    "import system_utils as su\n",
    "from importlib import reload\n",
    "import trimesh_utils as tu\n",
    "import skeleton_utils as sk\n",
    "from pathlib import Path\n",
    "import trimesh\n",
    "import neuron_utils as nru\n",
    "import trimesh_utils as tu"
   ]
  },
  {
   "cell_type": "markdown",
   "metadata": {},
   "source": [
    "#  Step 1: Decompressing a Neuron"
   ]
  },
  {
   "cell_type": "code",
   "execution_count": 4,
   "metadata": {},
   "outputs": [],
   "source": [
    "segment_id = 12345\n",
    "current_mesh_file = \"multi_soma_example.off\"\n",
    "description=\"2_soma_practice_decompress\""
   ]
  },
  {
   "cell_type": "code",
   "execution_count": 5,
   "metadata": {},
   "outputs": [
    {
     "data": {
      "application/vnd.jupyter.widget-view+json": {
       "model_id": "2548da33c9974de1bc9b5969772589e6",
       "version_major": 2,
       "version_minor": 0
      },
      "text/plain": [
       "HBox(children=(FloatProgress(value=0.0, max=73.0), HTML(value='')))"
      ]
     },
     "metadata": {},
     "output_type": "display_data"
    },
    {
     "data": {
      "application/vnd.jupyter.widget-view+json": {
       "model_id": "94869dc4482442bba7b14a93ce4a1a44",
       "version_major": 2,
       "version_minor": 0
      },
      "text/plain": [
       "HBox(children=(FloatProgress(value=0.0, max=53.0), HTML(value='')))"
      ]
     },
     "metadata": {},
     "output_type": "display_data"
    },
    {
     "data": {
      "application/vnd.jupyter.widget-view+json": {
       "model_id": "32884c392bd041c882355707f249ce7a",
       "version_major": 2,
       "version_minor": 0
      },
      "text/plain": [
       "HBox(children=(FloatProgress(value=0.0, max=49.0), HTML(value='')))"
      ]
     },
     "metadata": {},
     "output_type": "display_data"
    },
    {
     "data": {
      "application/vnd.jupyter.widget-view+json": {
       "model_id": "9dd6a5c3798940a994dc2ccadab1516b",
       "version_major": 2,
       "version_minor": 0
      },
      "text/plain": [
       "HBox(children=(FloatProgress(value=0.0, max=39.0), HTML(value='')))"
      ]
     },
     "metadata": {},
     "output_type": "display_data"
    },
    {
     "data": {
      "application/vnd.jupyter.widget-view+json": {
       "model_id": "97f582f301244282bb4b50859a707ba6",
       "version_major": 2,
       "version_minor": 0
      },
      "text/plain": [
       "HBox(children=(FloatProgress(value=0.0, max=35.0), HTML(value='')))"
      ]
     },
     "metadata": {},
     "output_type": "display_data"
    },
    {
     "data": {
      "application/vnd.jupyter.widget-view+json": {
       "model_id": "0fea86b52045455d8f0b6a09fa03f882",
       "version_major": 2,
       "version_minor": 0
      },
      "text/plain": [
       "HBox(children=(FloatProgress(value=0.0, max=16.0), HTML(value='')))"
      ]
     },
     "metadata": {},
     "output_type": "display_data"
    },
    {
     "data": {
      "application/vnd.jupyter.widget-view+json": {
       "model_id": "94f3ff1cdcf2415caba5fabea4578f23",
       "version_major": 2,
       "version_minor": 0
      },
      "text/plain": [
       "HBox(children=(FloatProgress(value=0.0, max=17.0), HTML(value='')))"
      ]
     },
     "metadata": {},
     "output_type": "display_data"
    },
    {
     "data": {
      "application/vnd.jupyter.widget-view+json": {
       "model_id": "60402b110cad46668de0ef6cabe8f4bc",
       "version_major": 2,
       "version_minor": 0
      },
      "text/plain": [
       "HBox(children=(FloatProgress(value=0.0, max=25.0), HTML(value='')))"
      ]
     },
     "metadata": {},
     "output_type": "display_data"
    },
    {
     "data": {
      "application/vnd.jupyter.widget-view+json": {
       "model_id": "97e3fcda21714ae1bbff864400004d78",
       "version_major": 2,
       "version_minor": 0
      },
      "text/plain": [
       "HBox(children=(FloatProgress(value=0.0, max=11.0), HTML(value='')))"
      ]
     },
     "metadata": {},
     "output_type": "display_data"
    },
    {
     "data": {
      "application/vnd.jupyter.widget-view+json": {
       "model_id": "e8f7df8307b04fff95c5763b6bcebcfd",
       "version_major": 2,
       "version_minor": 0
      },
      "text/plain": [
       "HBox(children=(FloatProgress(value=0.0, max=5.0), HTML(value='')))"
      ]
     },
     "metadata": {},
     "output_type": "display_data"
    },
    {
     "data": {
      "application/vnd.jupyter.widget-view+json": {
       "model_id": "5aab367807474278b8dc7844562534ff",
       "version_major": 2,
       "version_minor": 0
      },
      "text/plain": [
       "HBox(children=(FloatProgress(value=0.0, max=1.0), HTML(value='')))"
      ]
     },
     "metadata": {},
     "output_type": "display_data"
    }
   ],
   "source": [
    "su = reload(su)\n",
    "neuron = reload(neuron)\n",
    "nru=reload(nru)\n",
    "from tqdm.notebook import tqdm\n",
    "\n",
    "compressed_neuron_path = Path(\"../../neuron_mesh_tools/test_neurons/test_objects/12345_2_soma_practice_decompress\")\n",
    "with su.suppress_stdout_stderr():\n",
    "    recovered_neuron = nru.decompress_neuron(filepath=compressed_neuron_path,\n",
    "                      original_mesh=compressed_neuron_path)"
   ]
  },
  {
   "cell_type": "markdown",
   "metadata": {},
   "source": [
    "# Decomposition Visualization"
   ]
  },
  {
   "cell_type": "code",
   "execution_count": 6,
   "metadata": {},
   "outputs": [
    {
     "ename": "NameError",
     "evalue": "name 'nviz' is not defined",
     "output_type": "error",
     "traceback": [
      "\u001b[0;31m---------------------------------------------------------------------------\u001b[0m",
      "\u001b[0;31mNameError\u001b[0m                                 Traceback (most recent call last)",
      "\u001b[0;32m<ipython-input-6-3c958feaf549>\u001b[0m in \u001b[0;36m<module>\u001b[0;34m\u001b[0m\n\u001b[0;32m----> 1\u001b[0;31m \u001b[0mnviz\u001b[0m \u001b[0;34m=\u001b[0m \u001b[0mreload\u001b[0m\u001b[0;34m(\u001b[0m\u001b[0mnviz\u001b[0m\u001b[0;34m)\u001b[0m\u001b[0;34m\u001b[0m\u001b[0;34m\u001b[0m\u001b[0m\n\u001b[0m\u001b[1;32m      2\u001b[0m nviz.visualize_neuron(recovered_neuron,\n\u001b[1;32m      3\u001b[0m                       \u001b[0mlimb_branch_dict\u001b[0m\u001b[0;34m=\u001b[0m\u001b[0;34m\"all\"\u001b[0m\u001b[0;34m,\u001b[0m\u001b[0;34m\u001b[0m\u001b[0;34m\u001b[0m\u001b[0m\n\u001b[1;32m      4\u001b[0m                      \u001b[0mvisualize_type\u001b[0m\u001b[0;34m=\u001b[0m\u001b[0;34m[\u001b[0m\u001b[0;34m\"mesh\"\u001b[0m\u001b[0;34m,\u001b[0m\u001b[0;34m\"skeleton\"\u001b[0m\u001b[0;34m]\u001b[0m\u001b[0;34m\u001b[0m\u001b[0;34m\u001b[0m\u001b[0m\n\u001b[1;32m      5\u001b[0m \u001b[0;34m\u001b[0m\u001b[0m\n",
      "\u001b[0;31mNameError\u001b[0m: name 'nviz' is not defined"
     ]
    }
   ],
   "source": [
    "nviz = reload(nviz)\n",
    "nviz.visualize_neuron(recovered_neuron,\n",
    "                      limb_branch_dict=\"all\",\n",
    "                     visualize_type=[\"mesh\",\"skeleton\"]\n",
    "                     \n",
    "                     )"
   ]
  },
  {
   "cell_type": "code",
   "execution_count": null,
   "metadata": {},
   "outputs": [],
   "source": [
    "recovered_neuron.plot_soma_limb_concept_network()"
   ]
  },
  {
   "cell_type": "markdown",
   "metadata": {},
   "source": [
    "# How to perform the query"
   ]
  },
  {
   "cell_type": "code",
   "execution_count": null,
   "metadata": {},
   "outputs": [],
   "source": [
    "import skeleton_utils as sk\n",
    "import neuron_searching as ns\n",
    "sk = reload(sk)\n",
    "ns = reload(ns)\n",
    "nru = reload(nru)\n",
    "\n",
    "\n",
    "\n",
    "\n",
    "functions_list=[\n",
    "ns.n_faces_branch,\n",
    "\"width\",\n",
    "ns.skeleton_distance_branch,\n",
    "ns.skeleton_distance_limb,\n",
    "\"n_faces_limb\",\n",
    "ns.merge_limbs,\n",
    "ns.limb_error_branches,\n",
    "ns.average_branch_length\n",
    "    \n",
    "]\n",
    "\n",
    "#Example Query 1:\n",
    "#current_query = \"(average_branch_length > 10000) and width > 1000\"\n",
    "\n",
    "#Example Query 2:\n",
    "#branch_threshold = 31000\n",
    "#current_query = \"n_faces_branch in @list_of_faces or skeleton_distance_branch > @branch_threshold or width > 10000\"\n",
    "#local_dict=dict(list_of_faces=list_of_faces,branch_threshold=branch_threshold)\n",
    "\n",
    "#Example Query 3:\n",
    "current_query = \"(n_faces_branch > 10000) and (width > 1000)\"\n",
    "local_dict = dict()\n",
    "\n",
    "returned_query = ns.query_neuron(recovered_neuron,\n",
    "                         functions_list,\n",
    "                          current_query,\n",
    "                          local_dict=local_dict,\n",
    "                          return_dataframe=False,\n",
    "                          return_limbs=False,\n",
    "                          return_limb_grouped_branches=True,\n",
    "                         print_flag=False)\n",
    "\n",
    "returned_query"
   ]
  },
  {
   "cell_type": "code",
   "execution_count": null,
   "metadata": {},
   "outputs": [],
   "source": [
    "# limb_branch_dict = {\"L0\":[1,3,4,6],\n",
    "#                    \"L1\":[0,1,3,4,6]}\n",
    "\n",
    "# color_dict_skeleton = dict()\n",
    "# color_dict_skeleton[\"L0\"] = {1:\"red\",2:\"pink\"}\n",
    "# color_dict_skeleton[\"L1\"] = {37:\"red\",12:\"pink\"}\n",
    "# color_dict_skeleton[\"L2\"] = {5:\"red\"}\n",
    "\n",
    "# color_dict = dict()\n",
    "# color_dict[\"L0\"] = \"pink\"\n",
    "# color_dict[\"L1\"] = \"red\"\n",
    "# color_dict[\"L2\"] = \"green\"\n",
    "\n",
    "\n",
    "import neuron_visualizations as nviz\n",
    "nviz = reload(nviz)\n",
    "plot_items_returned = nviz.visualize_neuron(recovered_neuron,\n",
    "                                            limb_branch_dict=returned_query,\n",
    "                                            visualize_type=[\"mesh\",\"skeleton\"],\n",
    "                                            \n",
    "                                            \n",
    "                                            mesh_resolution=\"branch\",\n",
    "                                            #mesh_color=[\"green\",[1,0,0,0.4],[0,0.9,0,0.6],\"yellow\"],\n",
    "                                            #mesh_color = color_dict,\n",
    "                                            mesh_color=\"red\",\n",
    "                                            mesh_color_alpha = 0.8,\n",
    "                                            mesh_soma=False,\n",
    "                                            #mesh_whole_neuron=True,\n",
    "                                            \n",
    "                                            \n",
    "                                            \n",
    "\n",
    "\n",
    "                                            skeleton_resolution=\"branch\",\n",
    "                                            #skeleton_color = color_dict_skeleton,\n",
    "                                            skeleton_color=\"yellow\",\n",
    "                                            skeleton_fill_color=\"black\",\n",
    "                                            skeleton_soma=True,\n",
    "                                            skeleton_whole_neuron=True,\n",
    "\n",
    "                                            #colors_to_omit=[\"yellow\",\"green\"],\n",
    "                                            print_flag = False,)"
   ]
  },
  {
   "cell_type": "code",
   "execution_count": null,
   "metadata": {},
   "outputs": [],
   "source": [
    "limb_branch_dict = {\"L0\":[1,3,4,6],\n",
    "                   \"L1\":[0,1,3,4,6]}\n",
    "\n",
    "color_dict_skeleton = dict()\n",
    "color_dict_skeleton[\"L0\"] = {1:\"red\",2:\"pink\"}\n",
    "color_dict_skeleton[\"L1\"] = {37:\"red\",12:\"pink\"}\n",
    "color_dict_skeleton[\"L2\"] = {5:\"red\"}\n",
    "\n",
    "\n",
    "import neuron_visualizations as nviz\n",
    "nviz = reload(nviz)\n",
    "plot_items_returned = nviz.visualize_neuron(recovered_neuron,\n",
    "                                            limb_branch_dict=limb_branch_dict,\n",
    "                                            visualize_type=[\"skeleton\"],\n",
    "\n",
    "\n",
    "                                            skeleton_resolution=\"branch\",\n",
    "                                            skeleton_color = color_dict_skeleton,\n",
    "                                            skeleton_fill_color=\"green\",\n",
    "                                            skeleton_soma=True,\n",
    "                                            skeleton_whole_neuron=False,\n",
    "\n",
    "                                            #colors_to_omit=[\"yellow\",\"green\"],\n",
    "                                            print_flag = False,)"
   ]
  },
  {
   "cell_type": "code",
   "execution_count": null,
   "metadata": {},
   "outputs": [],
   "source": [
    "limb_branch_dict = {\"L0\":[1,3,4,6],\n",
    "                   \"L1\":[0,1,3,4,6]}\n",
    "\n",
    "color_dict = dict()\n",
    "color_dict[\"L0\"] = \"pink\"\n",
    "color_dict[\"L1\"] = \"red\"\n",
    "color_dict[\"L2\"] = \"green\"\n",
    "\n",
    "\n",
    "import neuron_visualizations as nviz\n",
    "nviz = reload(nviz)\n",
    "plot_items_returned = nviz.visualize_neuron(recovered_neuron,\n",
    "                                            limb_branch_dict=limb_branch_dict,\n",
    "                                            visualize_type=[\"mesh\"],\n",
    "                                            \n",
    "                                            \n",
    "                                            mesh_resolution=\"limb\",\n",
    "                                            mesh_color = color_dict,\n",
    "                                            mesh_color_alpha = 0.8,\n",
    "                                            mesh_soma=False,\n",
    "                                            #mesh_whole_neuron=True,\n",
    "                                            \n",
    "                                            \n",
    "                                            \n",
    "\n",
    "\n",
    "                                            skeleton_resolution=\"branch\",\n",
    "                                            skeleton_color=\"yellow\",\n",
    "                                            skeleton_fill_color=\"black\",\n",
    "                                            skeleton_soma=True,\n",
    "                                            skeleton_whole_neuron=False,\n",
    "\n",
    "                                            print_flag = False,)"
   ]
  },
  {
   "cell_type": "code",
   "execution_count": null,
   "metadata": {},
   "outputs": [],
   "source": []
  }
 ],
 "metadata": {
  "kernelspec": {
   "display_name": "Python 3",
   "language": "python",
   "name": "python3"
  },
  "language_info": {
   "codemirror_mode": {
    "name": "ipython",
    "version": 3
   },
   "file_extension": ".py",
   "mimetype": "text/x-python",
   "name": "python",
   "nbconvert_exporter": "python",
   "pygments_lexer": "ipython3",
   "version": "3.6.9"
  }
 },
 "nbformat": 4,
 "nbformat_minor": 4
}
