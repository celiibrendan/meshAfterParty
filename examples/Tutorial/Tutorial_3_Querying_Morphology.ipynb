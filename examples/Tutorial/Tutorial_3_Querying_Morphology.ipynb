{
 "cells": [
  {
   "cell_type": "code",
   "execution_count": null,
   "metadata": {},
   "outputs": [],
   "source": [
    "\"\"\"\n",
    "Purpose: \n",
    "To show how to query the morphology of a processed neuron\n",
    "\n",
    "\"\"\""
   ]
  },
  {
   "cell_type": "markdown",
   "metadata": {},
   "source": [
    "# Importing Relevant Packages"
   ]
  },
  {
   "cell_type": "code",
   "execution_count": 1,
   "metadata": {},
   "outputs": [],
   "source": [
    "from os import sys\n",
    "sys.path.append(\"/meshAfterParty/\")"
   ]
  },
  {
   "cell_type": "code",
   "execution_count": 2,
   "metadata": {},
   "outputs": [
    {
     "name": "stderr",
     "output_type": "stream",
     "text": [
      "WARNING:root:Need to pip install annotationframeworkclient to repair mesh with pychunkedgraph\n",
      "WARNING:root:Need to pip install annotationframeworkclient to use dataset_name parameters\n"
     ]
    }
   ],
   "source": [
    "import soma_extraction_utils as sm\n",
    "import neuron\n",
    "import neuron_visualizations as nviz\n",
    "import neuron_utils as nru\n",
    "from pathlib import Path"
   ]
  },
  {
   "cell_type": "markdown",
   "metadata": {},
   "source": [
    "# Load a Cell to analyze"
   ]
  },
  {
   "cell_type": "code",
   "execution_count": 3,
   "metadata": {},
   "outputs": [
    {
     "name": "stdout",
     "output_type": "stream",
     "text": [
      "Decompressing Neuron in minimal output mode...please wait\n"
     ]
    }
   ],
   "source": [
    "excitatory_file = \"95442489112204099_excitatory_7\"\n",
    "\n",
    "recovered_neuron = nru.decompress_neuron(filepath=f\"../test_neurons/spine_detection/excitatory_meshafterparty/{excitatory_file}_meshafterparty\",\n",
    "                     original_mesh=f\"../test_neurons/spine_detection/{excitatory_file}\",\n",
    "                     )"
   ]
  },
  {
   "cell_type": "markdown",
   "metadata": {},
   "source": [
    "# What the Querying Functions Look like"
   ]
  },
  {
   "cell_type": "code",
   "execution_count": null,
   "metadata": {},
   "outputs": [],
   "source": [
    "\"\"\"\n",
    "--- Excerpt from neuron_searching.py\n",
    "\n",
    "\n",
    "@run_options(run_type=\"Branch\")\n",
    "def median_mesh_center(branch,limb_name=None,branch_name=None,**kwargs):\n",
    "    return branch.width_new[\"median_mesh_center\"]\n",
    "\n",
    "@run_options(run_type=\"Branch\")\n",
    "def no_spine_mean_mesh_center(branch,limb_name=None,branch_name=None,**kwargs):\n",
    "    return branch.width_new[\"no_spine_mean_mesh_center\"]\n",
    "\n",
    "@run_options(run_type=\"Branch\")\n",
    "def no_spine_median_mesh_center(branch,limb_name=None,branch_name=None,**kwargs):\n",
    "    return branch.width_new[\"no_spine_median_mesh_center\"]\n",
    "    \n",
    "....\n",
    "\n",
    "\n",
    "@run_options(run_type=\"Limb\")\n",
    "def skeleton_distance_limb(curr_limb,limb_name=None,**kwargs):\n",
    "    curr_skeleton = curr_limb.get_skeleton()\n",
    "    return sk.calculate_skeleton_distance(curr_skeleton)\n",
    "\n",
    "@run_options(run_type=\"Limb\")\n",
    "def n_faces_limb(curr_limb,limb_name=None,**kwargs):\n",
    "    return len(curr_limb.mesh.faces)\n",
    "\n",
    "@run_options(run_type=\"Limb\")\n",
    "def merge_limbs(curr_limb,limb_name=None,**kwargs):\n",
    "    return \"MergeError\" in curr_limb.labels\n",
    "\n",
    "@run_options(run_type=\"Limb\")\n",
    "def limb_error_branches(curr_limb,limb_name=None,**kwargs):\n",
    "    error_nodes = nru.classify_endpoint_error_branches_from_limb_concept_network(curr_limb.concept_network)\n",
    "    node_names = np.array(list(curr_limb.concept_network.nodes()))\n",
    "    return dict([(k,k in error_nodes) for k in node_names])\n",
    "\n",
    "@run_options(run_type=\"Limb\")\n",
    "def average_branch_length(curr_limb,limb_name=None,**kwargs):\n",
    "    return np.mean([sk.calculate_skeleton_distance(curr_limb.concept_network.nodes[k][\"data\"].skeleton) for k in curr_limb.concept_network.nodes()])\n",
    "\n",
    "\n",
    "\"\"\""
   ]
  },
  {
   "cell_type": "code",
   "execution_count": 4,
   "metadata": {},
   "outputs": [
    {
     "data": {
      "text/html": [
       "<div>\n",
       "<style scoped>\n",
       "    .dataframe tbody tr th:only-of-type {\n",
       "        vertical-align: middle;\n",
       "    }\n",
       "\n",
       "    .dataframe tbody tr th {\n",
       "        vertical-align: top;\n",
       "    }\n",
       "\n",
       "    .dataframe thead th {\n",
       "        text-align: right;\n",
       "    }\n",
       "</style>\n",
       "<table border=\"1\" class=\"dataframe\">\n",
       "  <thead>\n",
       "    <tr style=\"text-align: right;\">\n",
       "      <th></th>\n",
       "      <th>limb</th>\n",
       "      <th>node</th>\n",
       "      <th>n_faces_branch</th>\n",
       "      <th>width</th>\n",
       "      <th>skeleton_distance_branch</th>\n",
       "      <th>skeleton_distance_limb</th>\n",
       "      <th>n_faces_limb</th>\n",
       "      <th>limb_error_branches</th>\n",
       "      <th>average_branch_length</th>\n",
       "    </tr>\n",
       "  </thead>\n",
       "  <tbody>\n",
       "    <tr>\n",
       "      <th>8</th>\n",
       "      <td>L0</td>\n",
       "      <td>22</td>\n",
       "      <td>343</td>\n",
       "      <td>270.490391</td>\n",
       "      <td>8711.807103</td>\n",
       "      <td>966489.048183</td>\n",
       "      <td>166274</td>\n",
       "      <td>False</td>\n",
       "      <td>19724.266289</td>\n",
       "    </tr>\n",
       "    <tr>\n",
       "      <th>15</th>\n",
       "      <td>L0</td>\n",
       "      <td>10</td>\n",
       "      <td>691</td>\n",
       "      <td>490.424829</td>\n",
       "      <td>8925.416069</td>\n",
       "      <td>966489.048183</td>\n",
       "      <td>166274</td>\n",
       "      <td>False</td>\n",
       "      <td>19724.266289</td>\n",
       "    </tr>\n",
       "    <tr>\n",
       "      <th>22</th>\n",
       "      <td>L0</td>\n",
       "      <td>46</td>\n",
       "      <td>180</td>\n",
       "      <td>137.603107</td>\n",
       "      <td>4601.612644</td>\n",
       "      <td>966489.048183</td>\n",
       "      <td>166274</td>\n",
       "      <td>False</td>\n",
       "      <td>19724.266289</td>\n",
       "    </tr>\n",
       "    <tr>\n",
       "      <th>23</th>\n",
       "      <td>L0</td>\n",
       "      <td>41</td>\n",
       "      <td>363</td>\n",
       "      <td>191.176902</td>\n",
       "      <td>13140.443349</td>\n",
       "      <td>966489.048183</td>\n",
       "      <td>166274</td>\n",
       "      <td>False</td>\n",
       "      <td>19724.266289</td>\n",
       "    </tr>\n",
       "    <tr>\n",
       "      <th>26</th>\n",
       "      <td>L0</td>\n",
       "      <td>15</td>\n",
       "      <td>668</td>\n",
       "      <td>227.239585</td>\n",
       "      <td>16374.012398</td>\n",
       "      <td>966489.048183</td>\n",
       "      <td>166274</td>\n",
       "      <td>False</td>\n",
       "      <td>19724.266289</td>\n",
       "    </tr>\n",
       "    <tr>\n",
       "      <th>29</th>\n",
       "      <td>L0</td>\n",
       "      <td>33</td>\n",
       "      <td>402</td>\n",
       "      <td>186.582527</td>\n",
       "      <td>11622.794049</td>\n",
       "      <td>966489.048183</td>\n",
       "      <td>166274</td>\n",
       "      <td>False</td>\n",
       "      <td>19724.266289</td>\n",
       "    </tr>\n",
       "    <tr>\n",
       "      <th>33</th>\n",
       "      <td>L0</td>\n",
       "      <td>44</td>\n",
       "      <td>160</td>\n",
       "      <td>151.052323</td>\n",
       "      <td>6135.917599</td>\n",
       "      <td>966489.048183</td>\n",
       "      <td>166274</td>\n",
       "      <td>False</td>\n",
       "      <td>19724.266289</td>\n",
       "    </tr>\n",
       "    <tr>\n",
       "      <th>37</th>\n",
       "      <td>L0</td>\n",
       "      <td>37</td>\n",
       "      <td>412</td>\n",
       "      <td>156.680531</td>\n",
       "      <td>7709.126097</td>\n",
       "      <td>966489.048183</td>\n",
       "      <td>166274</td>\n",
       "      <td>False</td>\n",
       "      <td>19724.266289</td>\n",
       "    </tr>\n",
       "    <tr>\n",
       "      <th>39</th>\n",
       "      <td>L0</td>\n",
       "      <td>31</td>\n",
       "      <td>120</td>\n",
       "      <td>185.009739</td>\n",
       "      <td>5427.989605</td>\n",
       "      <td>966489.048183</td>\n",
       "      <td>166274</td>\n",
       "      <td>False</td>\n",
       "      <td>19724.266289</td>\n",
       "    </tr>\n",
       "    <tr>\n",
       "      <th>40</th>\n",
       "      <td>L0</td>\n",
       "      <td>35</td>\n",
       "      <td>694</td>\n",
       "      <td>249.084005</td>\n",
       "      <td>15538.459058</td>\n",
       "      <td>966489.048183</td>\n",
       "      <td>166274</td>\n",
       "      <td>False</td>\n",
       "      <td>19724.266289</td>\n",
       "    </tr>\n",
       "    <tr>\n",
       "      <th>42</th>\n",
       "      <td>L0</td>\n",
       "      <td>4</td>\n",
       "      <td>233</td>\n",
       "      <td>323.112885</td>\n",
       "      <td>6058.509364</td>\n",
       "      <td>966489.048183</td>\n",
       "      <td>166274</td>\n",
       "      <td>False</td>\n",
       "      <td>19724.266289</td>\n",
       "    </tr>\n",
       "    <tr>\n",
       "      <th>47</th>\n",
       "      <td>L0</td>\n",
       "      <td>8</td>\n",
       "      <td>174</td>\n",
       "      <td>244.691827</td>\n",
       "      <td>4658.821235</td>\n",
       "      <td>966489.048183</td>\n",
       "      <td>166274</td>\n",
       "      <td>False</td>\n",
       "      <td>19724.266289</td>\n",
       "    </tr>\n",
       "    <tr>\n",
       "      <th>48</th>\n",
       "      <td>L0</td>\n",
       "      <td>9</td>\n",
       "      <td>18</td>\n",
       "      <td>338.964404</td>\n",
       "      <td>4590.954230</td>\n",
       "      <td>966489.048183</td>\n",
       "      <td>166274</td>\n",
       "      <td>True</td>\n",
       "      <td>19724.266289</td>\n",
       "    </tr>\n",
       "    <tr>\n",
       "      <th>55</th>\n",
       "      <td>L1</td>\n",
       "      <td>3</td>\n",
       "      <td>397</td>\n",
       "      <td>213.697546</td>\n",
       "      <td>11110.001931</td>\n",
       "      <td>275978.933937</td>\n",
       "      <td>42300</td>\n",
       "      <td>False</td>\n",
       "      <td>30664.325993</td>\n",
       "    </tr>\n",
       "    <tr>\n",
       "      <th>64</th>\n",
       "      <td>L2</td>\n",
       "      <td>5</td>\n",
       "      <td>257</td>\n",
       "      <td>254.746681</td>\n",
       "      <td>4915.614643</td>\n",
       "      <td>240407.743695</td>\n",
       "      <td>38191</td>\n",
       "      <td>False</td>\n",
       "      <td>18492.903361</td>\n",
       "    </tr>\n",
       "    <tr>\n",
       "      <th>65</th>\n",
       "      <td>L2</td>\n",
       "      <td>2</td>\n",
       "      <td>165</td>\n",
       "      <td>242.010064</td>\n",
       "      <td>5091.397785</td>\n",
       "      <td>240407.743695</td>\n",
       "      <td>38191</td>\n",
       "      <td>False</td>\n",
       "      <td>18492.903361</td>\n",
       "    </tr>\n",
       "    <tr>\n",
       "      <th>68</th>\n",
       "      <td>L2</td>\n",
       "      <td>10</td>\n",
       "      <td>234</td>\n",
       "      <td>454.200383</td>\n",
       "      <td>4069.023176</td>\n",
       "      <td>240407.743695</td>\n",
       "      <td>38191</td>\n",
       "      <td>False</td>\n",
       "      <td>18492.903361</td>\n",
       "    </tr>\n",
       "    <tr>\n",
       "      <th>70</th>\n",
       "      <td>L2</td>\n",
       "      <td>9</td>\n",
       "      <td>1047</td>\n",
       "      <td>323.512722</td>\n",
       "      <td>15773.178304</td>\n",
       "      <td>240407.743695</td>\n",
       "      <td>38191</td>\n",
       "      <td>False</td>\n",
       "      <td>18492.903361</td>\n",
       "    </tr>\n",
       "    <tr>\n",
       "      <th>79</th>\n",
       "      <td>L3</td>\n",
       "      <td>1</td>\n",
       "      <td>343</td>\n",
       "      <td>280.142897</td>\n",
       "      <td>7985.196093</td>\n",
       "      <td>166864.279183</td>\n",
       "      <td>32031</td>\n",
       "      <td>False</td>\n",
       "      <td>18540.475465</td>\n",
       "    </tr>\n",
       "  </tbody>\n",
       "</table>\n",
       "</div>"
      ],
      "text/plain": [
       "   limb  node  n_faces_branch       width  skeleton_distance_branch  \\\n",
       "8    L0    22             343  270.490391               8711.807103   \n",
       "15   L0    10             691  490.424829               8925.416069   \n",
       "22   L0    46             180  137.603107               4601.612644   \n",
       "23   L0    41             363  191.176902              13140.443349   \n",
       "26   L0    15             668  227.239585              16374.012398   \n",
       "29   L0    33             402  186.582527              11622.794049   \n",
       "33   L0    44             160  151.052323               6135.917599   \n",
       "37   L0    37             412  156.680531               7709.126097   \n",
       "39   L0    31             120  185.009739               5427.989605   \n",
       "40   L0    35             694  249.084005              15538.459058   \n",
       "42   L0     4             233  323.112885               6058.509364   \n",
       "47   L0     8             174  244.691827               4658.821235   \n",
       "48   L0     9              18  338.964404               4590.954230   \n",
       "55   L1     3             397  213.697546              11110.001931   \n",
       "64   L2     5             257  254.746681               4915.614643   \n",
       "65   L2     2             165  242.010064               5091.397785   \n",
       "68   L2    10             234  454.200383               4069.023176   \n",
       "70   L2     9            1047  323.512722              15773.178304   \n",
       "79   L3     1             343  280.142897               7985.196093   \n",
       "\n",
       "    skeleton_distance_limb  n_faces_limb  limb_error_branches  \\\n",
       "8            966489.048183        166274                False   \n",
       "15           966489.048183        166274                False   \n",
       "22           966489.048183        166274                False   \n",
       "23           966489.048183        166274                False   \n",
       "26           966489.048183        166274                False   \n",
       "29           966489.048183        166274                False   \n",
       "33           966489.048183        166274                False   \n",
       "37           966489.048183        166274                False   \n",
       "39           966489.048183        166274                False   \n",
       "40           966489.048183        166274                False   \n",
       "42           966489.048183        166274                False   \n",
       "47           966489.048183        166274                False   \n",
       "48           966489.048183        166274                 True   \n",
       "55           275978.933937         42300                False   \n",
       "64           240407.743695         38191                False   \n",
       "65           240407.743695         38191                False   \n",
       "68           240407.743695         38191                False   \n",
       "70           240407.743695         38191                False   \n",
       "79           166864.279183         32031                False   \n",
       "\n",
       "    average_branch_length  \n",
       "8            19724.266289  \n",
       "15           19724.266289  \n",
       "22           19724.266289  \n",
       "23           19724.266289  \n",
       "26           19724.266289  \n",
       "29           19724.266289  \n",
       "33           19724.266289  \n",
       "37           19724.266289  \n",
       "39           19724.266289  \n",
       "40           19724.266289  \n",
       "42           19724.266289  \n",
       "47           19724.266289  \n",
       "48           19724.266289  \n",
       "55           30664.325993  \n",
       "64           18492.903361  \n",
       "65           18492.903361  \n",
       "68           18492.903361  \n",
       "70           18492.903361  \n",
       "79           18540.475465  "
      ]
     },
     "execution_count": 4,
     "metadata": {},
     "output_type": "execute_result"
    }
   ],
   "source": [
    "import skeleton_utils as sk\n",
    "import neuron_searching as ns\n",
    "\n",
    "\n",
    "\n",
    "functions_list=[\n",
    "ns.n_faces_branch,\n",
    "\"width\",\n",
    "ns.skeleton_distance_branch,\n",
    "ns.skeleton_distance_limb,\n",
    "    \n",
    "\"n_faces_limb\",\n",
    "ns.limb_error_branches,\n",
    "ns.average_branch_length\n",
    "\n",
    "]\n",
    "\n",
    "local_dict = dict()\n",
    "\n",
    "#Example Query 1:\n",
    "current_query = \"(average_branch_length > 10000) and width < 500\"\n",
    "\n",
    "dataframe_result = ns.query_neuron(recovered_neuron,\n",
    "                         functions_list,\n",
    "                          current_query,\n",
    "                          query_variables_dict=local_dict,\n",
    "                          return_dataframe=True,\n",
    "                          return_limbs=False,\n",
    "                          return_limb_grouped_branches=True,\n",
    "                         print_flag=False)\n",
    "\n",
    "dataframe_result\n"
   ]
  },
  {
   "cell_type": "code",
   "execution_count": 5,
   "metadata": {},
   "outputs": [
    {
     "data": {
      "text/plain": [
       "{'L0': array([ 4,  8,  9, 10, 15, 22, 31, 33, 35, 37, 41, 44, 46]),\n",
       " 'L1': array([3]),\n",
       " 'L2': array([ 2,  5,  9, 10]),\n",
       " 'L3': array([1])}"
      ]
     },
     "execution_count": 5,
     "metadata": {},
     "output_type": "execute_result"
    }
   ],
   "source": [
    "returned_query = ns.query_neuron(recovered_neuron,\n",
    "                         functions_list,\n",
    "                          current_query,\n",
    "                          query_variables_dict=local_dict,\n",
    "                          return_dataframe=False,\n",
    "                          return_limbs=False,\n",
    "                          return_limb_grouped_branches=True,\n",
    "                         print_flag=False)\n",
    "\n",
    "returned_query"
   ]
  },
  {
   "cell_type": "code",
   "execution_count": 6,
   "metadata": {},
   "outputs": [
    {
     "name": "stdout",
     "output_type": "stream",
     "text": [
      "\n",
      " Working on visualization type: mesh\n"
     ]
    },
    {
     "data": {
      "application/vnd.jupyter.widget-view+json": {
       "model_id": "d1eb266d97474a71896d58fff76aa865",
       "version_major": 2,
       "version_minor": 0
      },
      "text/plain": [
       "VBox(children=(Figure(camera=PerspectiveCamera(fov=46.0, position=(0.0, 0.0, 2.0), quaternion=(0.0, 0.0, 0.0, …"
      ]
     },
     "metadata": {},
     "output_type": "display_data"
    }
   ],
   "source": [
    "nviz.visualize_neuron(recovered_neuron,\n",
    "                     limb_branch_dict=returned_query,\n",
    "                      mesh_color=\"red\",\n",
    "                     mesh_whole_neuron=True)"
   ]
  },
  {
   "cell_type": "markdown",
   "metadata": {},
   "source": [
    "# Example Query 2:"
   ]
  },
  {
   "cell_type": "code",
   "execution_count": 8,
   "metadata": {},
   "outputs": [
    {
     "data": {
      "text/plain": [
       "{'L0': array([ 0,  1,  2,  3,  4,  5,  6,  7,  8,  9, 10, 11, 12, 13, 14, 15, 16,\n",
       "        17, 18, 19, 20, 21, 22, 23, 24, 25, 26, 27, 28, 29, 30, 31, 32, 33,\n",
       "        34, 35, 36, 37, 38, 39, 40, 41, 42, 43, 44, 45, 46, 47, 48]),\n",
       " 'L1': array([0, 1, 2, 3, 4, 5, 6, 7, 8]),\n",
       " 'L2': array([ 0,  1,  2,  3,  4,  5,  6,  7,  8,  9, 10, 11, 12]),\n",
       " 'L3': array([0, 1, 2, 3, 4, 5, 6, 7, 8]),\n",
       " 'L4': array([0, 1, 2, 3, 4]),\n",
       " 'L5': array([0])}"
      ]
     },
     "execution_count": 8,
     "metadata": {},
     "output_type": "execute_result"
    }
   ],
   "source": [
    "\n",
    "\n",
    "current_query = \"n_faces_branch in @list_of_faces or skeleton_distance_branch > @branch_threshold or width > 10000\"\n",
    "\n",
    "local_dict = dict(list_of_faces=[100,200,300,400],\n",
    "          branch_threshold=400)\n",
    "\n",
    "returned_query = ns.query_neuron(recovered_neuron,\n",
    "                         functions_list,\n",
    "                          current_query,\n",
    "                          query_variables_dict=local_dict,\n",
    "                          return_dataframe=False,\n",
    "                          return_limbs=False,\n",
    "                          return_limb_grouped_branches=True,\n",
    "                         print_flag=False)\n",
    "\n",
    "returned_query"
   ]
  },
  {
   "cell_type": "code",
   "execution_count": 9,
   "metadata": {},
   "outputs": [
    {
     "name": "stdout",
     "output_type": "stream",
     "text": [
      "\n",
      " Working on visualization type: mesh\n"
     ]
    },
    {
     "data": {
      "application/vnd.jupyter.widget-view+json": {
       "model_id": "373fc6ca5097468ba2fc549a3ff119ba",
       "version_major": 2,
       "version_minor": 0
      },
      "text/plain": [
       "VBox(children=(Figure(camera=PerspectiveCamera(fov=46.0, position=(0.0, 0.0, 2.0), quaternion=(0.0, 0.0, 0.0, …"
      ]
     },
     "metadata": {},
     "output_type": "display_data"
    }
   ],
   "source": [
    "nviz.visualize_neuron(recovered_neuron,\n",
    "                     limb_branch_dict=returned_query,\n",
    "                      mesh_color=\"red\",\n",
    "                     mesh_whole_neuron=True)"
   ]
  },
  {
   "cell_type": "markdown",
   "metadata": {},
   "source": [
    "# Finding Axon Like Parts "
   ]
  },
  {
   "cell_type": "code",
   "execution_count": 10,
   "metadata": {},
   "outputs": [
    {
     "data": {
      "text/plain": [
       "{'L0': array([ 4,  8, 10, 12, 13, 15, 22, 31, 33, 35, 37, 41, 44, 45, 46]),\n",
       " 'L1': array([0, 1, 3]),\n",
       " 'L2': array([ 2,  5,  9, 10]),\n",
       " 'L3': array([1]),\n",
       " 'L4': array([0, 3])}"
      ]
     },
     "execution_count": 10,
     "metadata": {},
     "output_type": "execute_result"
    }
   ],
   "source": [
    "axon_width_like_requirement = \"(median_mesh_center < 200)\"# or no_spine_median_mesh_center < 150)\"\n",
    "axon_width_like_query = (f\"(n_spines < 4 and {axon_width_like_requirement} and skeleton_distance_branch <= 15000)\"\n",
    "                f\" or (skeleton_distance_branch > 15000 and {axon_width_like_requirement} and spines_per_skeletal_length < 0.00023)\")\n",
    "\n",
    "axon_width_like_functions_list = [\n",
    "    \"width\",\n",
    "    \"median_mesh_center\",\n",
    "    \"n_spines\",\n",
    "    \"n_faces_branch\",\n",
    "    \"skeleton_distance_branch\",\n",
    "    \"spines_per_skeletal_length\",\n",
    "    \"no_spine_median_mesh_center\",\n",
    "]\n",
    "\n",
    "axon_like_limb_branch_dict = ns.query_neuron(recovered_neuron,\n",
    "                                       query=axon_width_like_query,\n",
    "                   functions_list=axon_width_like_functions_list)\n",
    "\n",
    "axon_like_limb_branch_dict"
   ]
  },
  {
   "cell_type": "code",
   "execution_count": 11,
   "metadata": {},
   "outputs": [
    {
     "name": "stdout",
     "output_type": "stream",
     "text": [
      "\n",
      " Working on visualization type: mesh\n"
     ]
    },
    {
     "data": {
      "application/vnd.jupyter.widget-view+json": {
       "model_id": "a1f4ca21283e4b3e8b6a9f0cc1c422e2",
       "version_major": 2,
       "version_minor": 0
      },
      "text/plain": [
       "VBox(children=(Figure(camera=PerspectiveCamera(fov=46.0, position=(0.0, 0.0, 2.0), quaternion=(0.0, 0.0, 0.0, …"
      ]
     },
     "metadata": {},
     "output_type": "display_data"
    }
   ],
   "source": [
    "nviz.visualize_neuron(recovered_neuron,\n",
    "                     limb_branch_dict=axon_like_limb_branch_dict,\n",
    "                      mesh_color=\"red\",\n",
    "                     mesh_whole_neuron=True)"
   ]
  },
  {
   "cell_type": "code",
   "execution_count": null,
   "metadata": {},
   "outputs": [],
   "source": []
  }
 ],
 "metadata": {
  "kernelspec": {
   "display_name": "Python 3",
   "language": "python",
   "name": "python3"
  },
  "language_info": {
   "codemirror_mode": {
    "name": "ipython",
    "version": 3
   },
   "file_extension": ".py",
   "mimetype": "text/x-python",
   "name": "python",
   "nbconvert_exporter": "python",
   "pygments_lexer": "ipython3",
   "version": "3.6.9"
  }
 },
 "nbformat": 4,
 "nbformat_minor": 4
}
