{
 "cells": [
  {
   "cell_type": "code",
   "execution_count": 1,
   "metadata": {},
   "outputs": [
    {
     "data": {
      "text/plain": [
       "'\\nPurpose: \\nIntroduction to the following topics\\n1) Importing Meshes\\n2) Object Visualization\\n3) Neuron Decomposition\\n- meshparty\\n- meshafterparty\\n4) Neuron Visualizations\\n5) Exporting Decomposition of Neurons\\n6) Importing Decomposition\\n7) Exploring the different parts of the decomposition\\n'"
      ]
     },
     "execution_count": 1,
     "metadata": {},
     "output_type": "execute_result"
    }
   ],
   "source": [
    "\"\"\"\n",
    "Purpose: \n",
    "Introduction to the following topics\n",
    "1) Importing Meshes\n",
    "2) Object Visualization\n",
    "3) Neuron Decomposition\n",
    "- meshparty\n",
    "- meshafterparty\n",
    "4) Neuron Visualizations\n",
    "5) Exporting Decomposition of Neurons\n",
    "6) Importing Decomposition\n",
    "7) Exploring the different parts of the decomposition\n",
    "\"\"\""
   ]
  },
  {
   "cell_type": "markdown",
   "metadata": {},
   "source": [
    "# Importing Relevant Packages"
   ]
  },
  {
   "cell_type": "code",
   "execution_count": 2,
   "metadata": {},
   "outputs": [],
   "source": [
    "from os import sys\n",
    "sys.path.append(\"/meshAfterParty/\")"
   ]
  },
  {
   "cell_type": "code",
   "execution_count": 3,
   "metadata": {},
   "outputs": [
    {
     "name": "stderr",
     "output_type": "stream",
     "text": [
      "WARNING:root:Need to pip install annotationframeworkclient to repair mesh with pychunkedgraph\n",
      "WARNING:root:Need to pip install annotationframeworkclient to use dataset_name parameters\n"
     ]
    }
   ],
   "source": [
    "import soma_extraction_utils as sm\n",
    "import neuron\n",
    "import neuron_visualizations as nviz\n",
    "from pathlib import Path"
   ]
  },
  {
   "cell_type": "markdown",
   "metadata": {},
   "source": [
    "# Importing Neuron Mesh"
   ]
  },
  {
   "cell_type": "code",
   "execution_count": 4,
   "metadata": {},
   "outputs": [],
   "source": [
    "neuron_mesh_file = Path(\"../test_neurons/spine_detection/100224677766544793_inhibitory_2.off\")\n",
    "seg_id = 100224677766544793\n",
    "description=\"inhibitory_2\"\n",
    "\n",
    "neuron_mesh_file = Path(\"../test_neurons/spine_detection/90725377802114822_inhibitory_7.off\")\n",
    "seg_id = 90725377802114822\n",
    "description=\"inhibitory_7\"\n",
    "\n",
    "import trimesh_utils as tu\n",
    "current_neuron_mesh = tu.load_mesh_no_processing(neuron_mesh_file)"
   ]
  },
  {
   "cell_type": "markdown",
   "metadata": {},
   "source": [
    "# Object Visualization"
   ]
  },
  {
   "cell_type": "code",
   "execution_count": 5,
   "metadata": {},
   "outputs": [
    {
     "name": "stderr",
     "output_type": "stream",
     "text": [
      "/usr/local/lib/python3.6/dist-packages/traittypes/traittypes.py:101: UserWarning: Given trait value dtype \"float64\" does not match required type \"float64\". A coerced copy has been created.\n",
      "  np.dtype(self.dtype).name))\n"
     ]
    },
    {
     "data": {
      "application/vnd.jupyter.widget-view+json": {
       "model_id": "7f8bad85d2a5415d92b46e1d714fc66f",
       "version_major": 2,
       "version_minor": 0
      },
      "text/plain": [
       "VBox(children=(Figure(camera=PerspectiveCamera(fov=46.0, position=(0.0, 0.0, 2.0), quaternion=(0.0, 0.0, 0.0, …"
      ]
     },
     "metadata": {},
     "output_type": "display_data"
    }
   ],
   "source": [
    "nviz.plot_objects(meshes=current_neuron_mesh)"
   ]
  },
  {
   "cell_type": "markdown",
   "metadata": {},
   "source": [
    "# Decomposition of Mesh (meshparty)"
   ]
  },
  {
   "cell_type": "code",
   "execution_count": 6,
   "metadata": {},
   "outputs": [
    {
     "name": "stdout",
     "output_type": "stream",
     "text": [
      "Processing Neuorn in minimal output mode...please wait\n",
      "Total time for neuron instance creation = 53.625767946243286\n"
     ]
    }
   ],
   "source": [
    "current_neuron_mp = neuron.Neuron(\n",
    "                 mesh=current_neuron_mesh, \n",
    "                 segment_id=seg_id,\n",
    "                 description=description,\n",
    "                 decomposition_type=\"meshparty\",\n",
    "                suppress_output=True)"
   ]
  },
  {
   "cell_type": "markdown",
   "metadata": {},
   "source": [
    "# Visualizing the Neuron Decomposition"
   ]
  },
  {
   "cell_type": "code",
   "execution_count": 7,
   "metadata": {},
   "outputs": [
    {
     "name": "stdout",
     "output_type": "stream",
     "text": [
      "\n",
      " Working on visualization type: mesh\n",
      "\n",
      " Working on visualization type: skeleton\n"
     ]
    },
    {
     "data": {
      "application/vnd.jupyter.widget-view+json": {
       "model_id": "0c3523a34b59469e9546d1c96437f374",
       "version_major": 2,
       "version_minor": 0
      },
      "text/plain": [
       "VBox(children=(Figure(camera=PerspectiveCamera(fov=46.0, position=(0.0, 0.0, 2.0), quaternion=(0.0, 0.0, 0.0, …"
      ]
     },
     "metadata": {},
     "output_type": "display_data"
    }
   ],
   "source": [
    "nviz.visualize_neuron(current_neuron_mp,\n",
    "                     visualize_type = [\"mesh\",\"skeleton\"],\n",
    "                     limb_branch_dict=\"all\",\n",
    "                     )"
   ]
  },
  {
   "cell_type": "code",
   "execution_count": 8,
   "metadata": {},
   "outputs": [
    {
     "name": "stdout",
     "output_type": "stream",
     "text": [
      "\n",
      " Working on visualization type: mesh\n",
      "\n",
      " Working on visualization type: network\n"
     ]
    },
    {
     "data": {
      "application/vnd.jupyter.widget-view+json": {
       "model_id": "652be51dad12454c943fed6899f98a4b",
       "version_major": 2,
       "version_minor": 0
      },
      "text/plain": [
       "VBox(children=(Figure(camera=PerspectiveCamera(fov=46.0, position=(0.0, 0.0, 2.0), quaternion=(0.0, 0.0, 0.0, …"
      ]
     },
     "metadata": {},
     "output_type": "display_data"
    }
   ],
   "source": [
    "nviz.visualize_neuron(current_neuron_mp,\n",
    "                     visualize_type = [\"mesh\",\"network\"],\n",
    "                     limb_branch_dict=\"all\",\n",
    "                      node_size=1\n",
    "                     )"
   ]
  },
  {
   "cell_type": "code",
   "execution_count": 9,
   "metadata": {},
   "outputs": [
    {
     "name": "stdout",
     "output_type": "stream",
     "text": [
      "\n",
      " Working on visualization type: mesh\n"
     ]
    },
    {
     "data": {
      "application/vnd.jupyter.widget-view+json": {
       "model_id": "20c59b904883490d9abc642a1a017041",
       "version_major": 2,
       "version_minor": 0
      },
      "text/plain": [
       "VBox(children=(Figure(camera=PerspectiveCamera(fov=46.0, position=(0.0, 0.0, 2.0), quaternion=(0.0, 0.0, 0.0, …"
      ]
     },
     "metadata": {},
     "output_type": "display_data"
    }
   ],
   "source": [
    "nviz.plot_spines(current_neuron_mp)"
   ]
  },
  {
   "cell_type": "markdown",
   "metadata": {},
   "source": [
    "# Basic Data Types Used Behind the Scenes"
   ]
  },
  {
   "cell_type": "markdown",
   "metadata": {},
   "source": [
    "# a) Mesh: Array of vertices (N,3) and Array of Faces (N,3)m"
   ]
  },
  {
   "cell_type": "code",
   "execution_count": 30,
   "metadata": {},
   "outputs": [
    {
     "data": {
      "text/plain": [
       "TrackedArray([[ 720896. , 1009952. ,  768340. ],\n",
       "              [ 834201.6,  964469.6,  748369.8],\n",
       "              [ 829542.4,  962897.2,  748957.8],\n",
       "              ...,\n",
       "              [ 849135.5,  961043.4,  740862.9],\n",
       "              [ 726511.5, 1001858. ,  766389.4],\n",
       "              [ 748066.7,  984243.3,  761696.7]])"
      ]
     },
     "execution_count": 30,
     "metadata": {},
     "output_type": "execute_result"
    }
   ],
   "source": [
    "current_neuron_mp.mesh.vertices"
   ]
  },
  {
   "cell_type": "markdown",
   "metadata": {},
   "source": [
    "# b) Skeleton: Array of coordinate aligned as edges (N,2,3)"
   ]
  },
  {
   "cell_type": "code",
   "execution_count": 31,
   "metadata": {},
   "outputs": [
    {
     "data": {
      "text/plain": [
       "array([[[792893.95413775, 947435.86083107, 743256.27882041],\n",
       "        [792888.7748417 , 947421.9807538 , 743237.73203048]],\n",
       "\n",
       "       [[792888.7748417 , 947421.9807538 , 743237.73203048],\n",
       "        [792872.47448313, 947381.4281819 , 743185.26283532]],\n",
       "\n",
       "       [[792872.47448313, 947381.4281819 , 743185.26283532],\n",
       "        [792842.95726713, 947317.34379189, 743107.29553324]],\n",
       "\n",
       "       ...,\n",
       "\n",
       "       [[798849.82969044, 946969.41174598, 747754.56766961],\n",
       "        [805101.88111377, 952154.26710178, 750169.18723955]],\n",
       "\n",
       "       [[798849.82969044, 946969.41174598, 747754.56766961],\n",
       "        [799561.5779939 , 952126.42949793, 742074.95119348]],\n",
       "\n",
       "       [[798849.82969044, 946969.41174598, 747754.56766961],\n",
       "        [804951.47024706, 943021.88189138, 745297.78357069]]])"
      ]
     },
     "execution_count": 31,
     "metadata": {},
     "output_type": "execute_result"
    }
   ],
   "source": [
    "current_neuron_mp.skeleton"
   ]
  },
  {
   "cell_type": "markdown",
   "metadata": {},
   "source": [
    "# c) Connectivity: Networkx Graph Objects"
   ]
  },
  {
   "cell_type": "code",
   "execution_count": 32,
   "metadata": {},
   "outputs": [],
   "source": [
    "import networkx as nx"
   ]
  },
  {
   "cell_type": "code",
   "execution_count": 33,
   "metadata": {},
   "outputs": [
    {
     "data": {
      "image/png": "[encoded data removed]",
      "text/plain": [
       "<Figure size 432x288 with 1 Axes>"
      ]
     },
     "metadata": {},
     "output_type": "display_data"
    }
   ],
   "source": [
    "G = nx.from_edgelist([[1,2],[2,3],[3,4],[3,5]])\n",
    "nx.draw(G,with_labels=True)"
   ]
  },
  {
   "cell_type": "code",
   "execution_count": 34,
   "metadata": {},
   "outputs": [
    {
     "data": {
      "text/plain": [
       "NodeView((1, 2, 3, 4, 5))"
      ]
     },
     "execution_count": 34,
     "metadata": {},
     "output_type": "execute_result"
    }
   ],
   "source": [
    "G.nodes()"
   ]
  },
  {
   "cell_type": "code",
   "execution_count": 35,
   "metadata": {},
   "outputs": [
    {
     "data": {
      "text/plain": [
       "EdgeView([(1, 2), (2, 3), (3, 4), (3, 5)])"
      ]
     },
     "execution_count": 35,
     "metadata": {},
     "output_type": "execute_result"
    }
   ],
   "source": [
    "G.edges()"
   ]
  },
  {
   "cell_type": "markdown",
   "metadata": {},
   "source": [
    "# Visualizing Limb and Soma"
   ]
  },
  {
   "cell_type": "code",
   "execution_count": 10,
   "metadata": {},
   "outputs": [
    {
     "data": {
      "text/plain": [
       "<networkx_utils.GraphOrderedEdges at 0x7fb5a169b9e8>"
      ]
     },
     "execution_count": 10,
     "metadata": {},
     "output_type": "execute_result"
    }
   ],
   "source": [
    "current_neuron_mp.concept_network"
   ]
  },
  {
   "cell_type": "code",
   "execution_count": 11,
   "metadata": {},
   "outputs": [
    {
     "data": {
      "image/png": "[encoded data removed]",
      "text/plain": [
       "<Figure size 432x288 with 1 Axes>"
      ]
     },
     "metadata": {},
     "output_type": "display_data"
    }
   ],
   "source": [
    "# Usual Way of visualizing networkx graph\n",
    "import networkx as nx\n",
    "import matplotlib.pyplot as plt\n",
    "nx.draw(current_neuron_mp.concept_network,with_labels=True)\n",
    "plt.show()"
   ]
  },
  {
   "cell_type": "code",
   "execution_count": 12,
   "metadata": {},
   "outputs": [
    {
     "data": {
      "image/png": "[encoded data removed]",
      "text/plain": [
       "<Figure size 432x288 with 1 Axes>"
      ]
     },
     "metadata": {},
     "output_type": "display_data"
    }
   ],
   "source": [
    "# Improved way of visualizing neuron networkx graph\n",
    "nviz.plot_soma_limb_concept_network(current_neuron_mp)"
   ]
  },
  {
   "cell_type": "markdown",
   "metadata": {},
   "source": [
    "# ---- Knowing which limbs are which (becuase we can't put floating labels)--- "
   ]
  },
  {
   "cell_type": "code",
   "execution_count": 13,
   "metadata": {},
   "outputs": [
    {
     "name": "stdout",
     "output_type": "stream",
     "text": [
      "\n",
      " Working on visualization type: mesh\n"
     ]
    },
    {
     "data": {
      "application/vnd.jupyter.widget-view+json": {
       "model_id": "2e23bd917cf3408891fa6951fab4ac62",
       "version_major": 2,
       "version_minor": 0
      },
      "text/plain": [
       "VBox(children=(Figure(camera=PerspectiveCamera(fov=46.0, position=(0.0, 0.0, 2.0), quaternion=(0.0, 0.0, 0.0, …"
      ]
     },
     "metadata": {},
     "output_type": "display_data"
    }
   ],
   "source": [
    "returned_colors = nviz.visualize_neuron(current_neuron_mp,\n",
    "                                       visualize_type=[\"mesh\"],\n",
    "                                        limb_branch_dict=\"all\",\n",
    "                                        mesh_resolution=\"limb\",\n",
    "                                        mesh_color_alpha=1,\n",
    "                                        return_color_dict=True\n",
    "                                       )"
   ]
  },
  {
   "cell_type": "code",
   "execution_count": 14,
   "metadata": {},
   "outputs": [
    {
     "data": {
      "image/png": "[encoded data removed]",
      "text/plain": [
       "<Figure size 432x288 with 1 Axes>"
      ]
     },
     "metadata": {},
     "output_type": "display_data"
    }
   ],
   "source": [
    "nviz.plot_soma_limb_concept_network(current_neuron_mp,\n",
    "                                   node_colors=returned_colors)"
   ]
  },
  {
   "cell_type": "code",
   "execution_count": 15,
   "metadata": {},
   "outputs": [
    {
     "data": {
      "application/vnd.jupyter.widget-view+json": {
       "model_id": "d79fa95a9062448d9dfc8b28b36f0090",
       "version_major": 2,
       "version_minor": 0
      },
      "text/plain": [
       "VBox(children=(Figure(camera=PerspectiveCamera(fov=46.0, position=(0.0, 0.0, 2.0), quaternion=(0.0, 0.0, 0.0, …"
      ]
     },
     "metadata": {},
     "output_type": "display_data"
    }
   ],
   "source": [
    "#old way of accessing nodes with networkx\n",
    "soma_obj = current_neuron_mp.concept_network.nodes[\"S0\"][\"data\"]\n",
    "limb_obj = current_neuron_mp.concept_network.nodes[\"L1\"][\"data\"]\n",
    "nviz.plot_objects(meshes=[limb_obj.mesh,soma_obj.mesh],\n",
    "                 skeletons=[limb_obj.skeleton])"
   ]
  },
  {
   "cell_type": "code",
   "execution_count": 16,
   "metadata": {},
   "outputs": [
    {
     "data": {
      "application/vnd.jupyter.widget-view+json": {
       "model_id": "4a13631ecf934ba1abc0e9979332bca9",
       "version_major": 2,
       "version_minor": 0
      },
      "text/plain": [
       "VBox(children=(Figure(camera=PerspectiveCamera(fov=46.0, position=(0.0, 0.0, 2.0), quaternion=(0.0, 0.0, 0.0, …"
      ]
     },
     "metadata": {},
     "output_type": "display_data"
    }
   ],
   "source": [
    "# better way with neuron object of accessing objects\n",
    "soma_obj = current_neuron_mp[\"S0\"]\n",
    "limb_obj = current_neuron_mp[\"L1\"]\n",
    "limb_obj = current_neuron_mp[1]\n",
    "nviz.plot_objects(meshes=[limb_obj.mesh,soma_obj.mesh],\n",
    "                 skeletons=[limb_obj.skeleton])"
   ]
  },
  {
   "cell_type": "code",
   "execution_count": 17,
   "metadata": {},
   "outputs": [
    {
     "name": "stdout",
     "output_type": "stream",
     "text": [
      "\n",
      " Working on visualization type: mesh\n",
      "\n",
      " Working on visualization type: skeleton\n"
     ]
    },
    {
     "data": {
      "application/vnd.jupyter.widget-view+json": {
       "model_id": "ced64dfcdf6c4ab69365bcb84f406b05",
       "version_major": 2,
       "version_minor": 0
      },
      "text/plain": [
       "VBox(children=(Figure(camera=PerspectiveCamera(fov=46.0, position=(0.0, 0.0, 2.0), quaternion=(0.0, 0.0, 0.0, …"
      ]
     },
     "metadata": {},
     "output_type": "display_data"
    }
   ],
   "source": [
    "# non-manual plotting\n",
    "nviz.visualize_neuron(current_neuron_mp,\n",
    "                     visualize_type=[\"mesh\",\"skeleton\"],\n",
    "                     limb_branch_dict=dict(L1=\"all\"),\n",
    "                     mesh_resolution=\"limb\",\n",
    "                     skeleton_resolution=\"limb\",\n",
    "                     mesh_soma=True)"
   ]
  },
  {
   "cell_type": "markdown",
   "metadata": {},
   "source": [
    "# The Soma Object"
   ]
  },
  {
   "cell_type": "code",
   "execution_count": 18,
   "metadata": {},
   "outputs": [
    {
     "name": "stdout",
     "output_type": "stream",
     "text": [
      "soma_obj.mesh_center=[798849.82969044 946969.41174598 747754.56766961]\n",
      "soma_obj.sdf=0.8903285\n"
     ]
    },
    {
     "data": {
      "application/vnd.jupyter.widget-view+json": {
       "model_id": "d78ec6155ee44c72bf7fa16936a8f213",
       "version_major": 2,
       "version_minor": 0
      },
      "text/plain": [
       "VBox(children=(Figure(camera=PerspectiveCamera(fov=46.0, position=(0.0, 0.0, 2.0), quaternion=(0.0, 0.0, 0.0, …"
      ]
     },
     "metadata": {},
     "output_type": "display_data"
    }
   ],
   "source": [
    "soma_obj = current_neuron_mp[\"S0\"]\n",
    "print(f\"soma_obj.mesh_center={soma_obj.mesh_center}\")\n",
    "print(f\"soma_obj.sdf={soma_obj.sdf}\")\n",
    "nviz.plot_objects(meshes=soma_obj.mesh)"
   ]
  },
  {
   "cell_type": "markdown",
   "metadata": {},
   "source": [
    "# Limb Object"
   ]
  },
  {
   "cell_type": "code",
   "execution_count": 19,
   "metadata": {
    "scrolled": true
   },
   "outputs": [
    {
     "name": "stdout",
     "output_type": "stream",
     "text": [
      "touching_somas = [0]\n",
      "mesh_center = [763114.57512831 969391.88347809 746046.29681537]\n"
     ]
    },
    {
     "data": {
      "text/plain": [
       "[{'starting_soma': 0,\n",
       "  'starting_node': 4,\n",
       "  'starting_endpoints': array([[792796.02918627, 949055.64790617, 753873.16858682],\n",
       "         [793975.1542206 , 949290.23933934, 756557.92787511]]),\n",
       "  'starting_coordinate': array([792796.02918627, 949055.64790617, 753873.16858682]),\n",
       "  'touching_soma_vertices': TrackedArray([[793274.6, 946265. , 753011.8],\n",
       "                [795034.8, 944907.8, 753559.8],\n",
       "                [795105.4, 944939.6, 753724.8],\n",
       "                [793338.6, 946120.4, 753085.8],\n",
       "                [796196.8, 944680.1, 754098.4],\n",
       "                [795433.4, 944764.3, 753796.4],\n",
       "                [795890.8, 944880.8, 754293.6],\n",
       "                [793239.8, 946439.6, 753121.3],\n",
       "                [794458.4, 945158.5, 753480.4],\n",
       "                [793226.2, 946700.9, 753027.9],\n",
       "                [793497. , 945926. , 752998.4],\n",
       "                [793813.4, 945466.8, 753140.8],\n",
       "                [796439.4, 944857.4, 754465.8],\n",
       "                [796734.2, 945227.2, 754878.5],\n",
       "                [796664.8, 944900.9, 754659.1],\n",
       "                [793710. , 945576.8, 753072.9],\n",
       "                [797257.6, 945935.9, 755331.1],\n",
       "                [796965.2, 945096.1, 754741.1],\n",
       "                [796084.6, 944828. , 754227.8],\n",
       "                [795565.8, 944952.1, 754000.1],\n",
       "                [797099.6, 945646.1, 755142.2],\n",
       "                [793191.4, 946778.1, 752842. ],\n",
       "                [793953.8, 945306.8, 753110.8],\n",
       "                [794269. , 945308.6, 753347.9],\n",
       "                [795223.6, 944795.9, 753684.9],\n",
       "                [796970.7, 945463.3, 755071.1],\n",
       "                [794868.1, 945066.4, 753529.4],\n",
       "                [795237.9, 944893.5, 753849.3],\n",
       "                [793191.1, 946887.2, 752880.2],\n",
       "                [796454.3, 944908.7, 754611.8],\n",
       "                [797014.1, 945351.1, 754930.2],\n",
       "                [794140.1, 945233.9, 753184.2],\n",
       "                [794895.7, 944903.7, 753401. ],\n",
       "                [795694.5, 944939.5, 754126.2],\n",
       "                [796308.9, 944773. , 754356.9],\n",
       "                [797347.7, 945823.8, 755259.8],\n",
       "                [796776.9, 945070. , 754700.8],\n",
       "                [794675.5, 945081.4, 753527. ],\n",
       "                [797422.1, 946015.9, 755377.5],\n",
       "                [796602.9, 945121.3, 754694.8],\n",
       "                [794364.9, 945169.6, 753304.7],\n",
       "                [793590.1, 945748.8, 752911.9],\n",
       "                [797262.9, 945717.8, 755187.4],\n",
       "                [795444.9, 944869.6, 753900.3]])}]"
      ]
     },
     "execution_count": 19,
     "metadata": {},
     "output_type": "execute_result"
    }
   ],
   "source": [
    "limb_obj = current_neuron_mp[1]\n",
    "#dir(limb_obj)\n",
    "interesting_attributes = [\"touching_somas\",\n",
    "                         \"all_concept_network_data\",\n",
    "                         \"mesh_center\",\n",
    "                         \"mesh\",\n",
    "                          \"spines\",\n",
    "                         \"skeleton\",\n",
    "                         \"set_concept_network_directional\"]\n",
    "\n",
    "print(f\"touching_somas = {limb_obj.touching_somas()}\")\n",
    "print(f\"mesh_center = {limb_obj.mesh_center}\")\n",
    "limb_obj.all_concept_network_data\n"
   ]
  },
  {
   "cell_type": "code",
   "execution_count": 20,
   "metadata": {},
   "outputs": [
    {
     "data": {
      "text/plain": [
       "[<trimesh.Trimesh(vertices.shape=(22, 3), faces.shape=(38, 3))>,\n",
       " <trimesh.Trimesh(vertices.shape=(21, 3), faces.shape=(37, 3))>,\n",
       " <trimesh.Trimesh(vertices.shape=(18, 3), faces.shape=(31, 3))>,\n",
       " <trimesh.Trimesh(vertices.shape=(16, 3), faces.shape=(25, 3))>,\n",
       " <trimesh.Trimesh(vertices.shape=(15, 3), faces.shape=(24, 3))>,\n",
       " <trimesh.Trimesh(vertices.shape=(14, 3), faces.shape=(23, 3))>]"
      ]
     },
     "execution_count": 20,
     "metadata": {},
     "output_type": "execute_result"
    }
   ],
   "source": [
    "limb_obj.spines"
   ]
  },
  {
   "cell_type": "code",
   "execution_count": 22,
   "metadata": {},
   "outputs": [
    {
     "data": {
      "application/vnd.jupyter.widget-view+json": {
       "model_id": "284e3423aa694d50b20c89b11c38e657",
       "version_major": 2,
       "version_minor": 0
      },
      "text/plain": [
       "VBox(children=(Figure(camera=PerspectiveCamera(fov=46.0, position=(0.0, 0.0, 2.0), quaternion=(0.0, 0.0, 0.0, …"
      ]
     },
     "metadata": {},
     "output_type": "display_data"
    }
   ],
   "source": [
    "# limb object as mesh,spines,skeleton\n",
    "nviz.plot_objects(main_mesh=limb_obj.mesh,\n",
    "                 meshes=limb_obj.spines,\n",
    "                 meshes_colors=\"black\",\n",
    "                 skeletons=limb_obj.skeleton)"
   ]
  },
  {
   "cell_type": "markdown",
   "metadata": {},
   "source": [
    "# Accessing and Visualizing the Branches"
   ]
  },
  {
   "cell_type": "code",
   "execution_count": 23,
   "metadata": {},
   "outputs": [
    {
     "data": {
      "text/plain": [
       "NodeView((1, 4, 0, 2, 3, 5))"
      ]
     },
     "execution_count": 23,
     "metadata": {},
     "output_type": "execute_result"
    }
   ],
   "source": [
    "#showing that the limb object has \n",
    "limb_obj.concept_network.nodes()"
   ]
  },
  {
   "cell_type": "code",
   "execution_count": 24,
   "metadata": {},
   "outputs": [
    {
     "name": "stdout",
     "output_type": "stream",
     "text": [
      "\n",
      " Working on visualization type: network\n",
      "\n",
      " Working on visualization type: mesh\n"
     ]
    },
    {
     "data": {
      "application/vnd.jupyter.widget-view+json": {
       "model_id": "df0c4b4b9a97455489b639903b1153a9",
       "version_major": 2,
       "version_minor": 0
      },
      "text/plain": [
       "VBox(children=(Figure(camera=PerspectiveCamera(fov=46.0, position=(0.0, 0.0, 2.0), quaternion=(0.0, 0.0, 0.0, …"
      ]
     },
     "metadata": {},
     "output_type": "display_data"
    }
   ],
   "source": [
    "# easy plotting of concept network\n",
    "returned_colors = nviz.visualize_neuron(current_neuron_mp,\n",
    "                     visualize_type=[\"network\",\"mesh\"],\n",
    "                     limb_branch_dict=dict(L1=\"all\"),\n",
    "                     node_size=2,\n",
    "                      return_color_dict=True\n",
    "                     )"
   ]
  },
  {
   "cell_type": "code",
   "execution_count": 26,
   "metadata": {},
   "outputs": [
    {
     "data": {
      "image/png": "[encoded data removed]",
      "text/plain": [
       "<Figure size 2880x1440 with 1 Axes>"
      ]
     },
     "metadata": {},
     "output_type": "display_data"
    }
   ],
   "source": [
    "nviz.plot_limb_concept_network_2D(current_neuron_mp,\n",
    "                                 limb_name=\"L1\",\n",
    "                                  font_color=\"black\",\n",
    "                                 node_colors=returned_colors)"
   ]
  },
  {
   "cell_type": "markdown",
   "metadata": {},
   "source": [
    "# Branch Object"
   ]
  },
  {
   "cell_type": "code",
   "execution_count": 27,
   "metadata": {},
   "outputs": [
    {
     "data": {
      "text/plain": [
       "<neuron.Branch at 0x7fb59d452c50>"
      ]
     },
     "execution_count": 27,
     "metadata": {},
     "output_type": "execute_result"
    }
   ],
   "source": [
    "# full way to access branch\n",
    "curr_limb = current_neuron_mp.concept_network.nodes[\"L1\"][\"data\"]\n",
    "curr_branch = curr_limb.concept_network.nodes[3][\"data\"]\n",
    "curr_branch"
   ]
  },
  {
   "cell_type": "code",
   "execution_count": 36,
   "metadata": {},
   "outputs": [
    {
     "data": {
      "text/plain": [
       "['__class__',\n",
       " '__delattr__',\n",
       " '__dict__',\n",
       " '__dir__',\n",
       " '__doc__',\n",
       " '__eq__',\n",
       " '__format__',\n",
       " '__ge__',\n",
       " '__getattribute__',\n",
       " '__gt__',\n",
       " '__hash__',\n",
       " '__init__',\n",
       " '__init_subclass__',\n",
       " '__le__',\n",
       " '__lt__',\n",
       " '__module__',\n",
       " '__ne__',\n",
       " '__new__',\n",
       " '__reduce__',\n",
       " '__reduce_ex__',\n",
       " '__repr__',\n",
       " '__setattr__',\n",
       " '__sizeof__',\n",
       " '__slotnames__',\n",
       " '__str__',\n",
       " '__subclasshook__',\n",
       " '__weakref__',\n",
       " 'endpoints',\n",
       " 'labels',\n",
       " 'mesh',\n",
       " 'mesh_center',\n",
       " 'mesh_face_idx',\n",
       " 'skeleton',\n",
       " 'spines',\n",
       " 'width',\n",
       " 'width_array',\n",
       " 'width_new']"
      ]
     },
     "execution_count": 36,
     "metadata": {},
     "output_type": "execute_result"
    }
   ],
   "source": [
    "# faster way to access branch\n",
    "curr_branch = current_neuron_mp[1][3]\n",
    "dir(curr_branch)"
   ]
  },
  {
   "cell_type": "code",
   "execution_count": 47,
   "metadata": {},
   "outputs": [
    {
     "name": "stdout",
     "output_type": "stream",
     "text": [
      "endpoints = [[791420.82435272 963024.82847196 779391.095879  ]\n",
      " [793975.1542206  949290.23933934 756557.92787511]]\n",
      "mesh_center = [793012.51029787 954142.91665248 767785.4649078 ]\n",
      "width = 1164.4095926531859\n",
      "labels = []\n"
     ]
    }
   ],
   "source": [
    "# basic properties of the branch object\n",
    "print(f\"endpoints = {curr_branch.endpoints}\")\n",
    "print(f\"mesh_center = {curr_branch.mesh_center}\")\n",
    "print(f\"width = {curr_branch.width}\")\n",
    "print(f\"labels = {curr_branch.labels}\")"
   ]
  },
  {
   "cell_type": "code",
   "execution_count": 48,
   "metadata": {},
   "outputs": [
    {
     "data": {
      "text/plain": [
       "{'median_mesh_center': 572.5340552711525,\n",
       " 'no_spine_median_mesh_center': 572.5340552711525,\n",
       " 'no_spine_mean_mesh_center': 561.6528538326565}"
      ]
     },
     "execution_count": 48,
     "metadata": {},
     "output_type": "execute_result"
    }
   ],
   "source": [
    "# other width definitions\n",
    "curr_branch.width_new"
   ]
  },
  {
   "cell_type": "code",
   "execution_count": 46,
   "metadata": {},
   "outputs": [
    {
     "data": {
      "text/plain": [
       "{'median_mesh_center': array([633.88652678, 569.6765382 , 502.47351652, 466.24931743,\n",
       "        495.99806877, 482.86948511, 685.56510053, 610.49473273,\n",
       "        567.65538453, 547.7300367 , 538.40616968, 518.75220407,\n",
       "        507.91824737, 558.47755106, 591.59407964, 625.84164744,\n",
       "        617.43429177, 566.31312372, 588.57262519, 600.09591144,\n",
       "        575.39157234, 535.91897997, 603.15462096, 638.21352773,\n",
       "        632.57958486, 612.37022456, 600.54139024, 248.31516955]),\n",
       " 'no_spine_median_mesh_center': array([633.88652678, 569.6765382 , 502.47351652, 466.24931743,\n",
       "        495.99806877, 486.65976354, 685.56510053, 610.49473273,\n",
       "        567.65538453, 547.7300367 , 538.40616968, 518.75220407,\n",
       "        507.91824737, 558.47755106, 591.59407964, 625.84164744,\n",
       "        617.43429177, 566.31312372, 588.57262519, 600.09591144,\n",
       "        575.39157234, 535.91897997, 603.15462096, 638.21352773,\n",
       "        632.57958486, 612.37022456, 600.54139024, 248.31516955]),\n",
       " 'no_spine_mean_mesh_center': array([633.88652678, 569.6765382 , 502.47351652, 466.24931743,\n",
       "        495.99806877, 486.65976354, 685.56510053, 610.49473273,\n",
       "        567.65538453, 547.7300367 , 538.40616968, 518.75220407,\n",
       "        507.91824737, 558.47755106, 591.59407964, 625.84164744,\n",
       "        617.43429177, 566.31312372, 588.57262519, 600.09591144,\n",
       "        575.39157234, 535.91897997, 603.15462096, 638.21352773,\n",
       "        632.57958486, 612.37022456, 600.54139024, 248.31516955])}"
      ]
     },
     "execution_count": 46,
     "metadata": {},
     "output_type": "execute_result"
    }
   ],
   "source": [
    "#width as you traverse along the skeleton (in segments specified on calculation, currently set to 1000 nm steps)\n",
    "curr_branch.width_array"
   ]
  },
  {
   "cell_type": "code",
   "execution_count": 49,
   "metadata": {},
   "outputs": [
    {
     "data": {
      "application/vnd.jupyter.widget-view+json": {
       "model_id": "331cc9a7eed04e968d01caa48c0eca38",
       "version_major": 2,
       "version_minor": 0
      },
      "text/plain": [
       "VBox(children=(Figure(camera=PerspectiveCamera(fov=46.0, position=(0.0, 0.0, 2.0), quaternion=(0.0, 0.0, 0.0, …"
      ]
     },
     "metadata": {},
     "output_type": "display_data"
    }
   ],
   "source": [
    "nviz.plot_objects(meshes=curr_branch.spines)"
   ]
  },
  {
   "cell_type": "code",
   "execution_count": 38,
   "metadata": {},
   "outputs": [
    {
     "data": {
      "application/vnd.jupyter.widget-view+json": {
       "model_id": "7c7b11371d4d4f7fb16920f6efd6f0f5",
       "version_major": 2,
       "version_minor": 0
      },
      "text/plain": [
       "VBox(children=(Figure(camera=PerspectiveCamera(fov=46.0, position=(0.0, 0.0, 2.0), quaternion=(0.0, 0.0, 0.0, …"
      ]
     },
     "metadata": {},
     "output_type": "display_data"
    }
   ],
   "source": [
    "nviz.plot_objects(main_mesh=curr_branch.mesh,\n",
    "          meshes=curr_branch.spines,\n",
    "          meshes_colors=\"black\",\n",
    "          skeletons=curr_branch.skeleton\n",
    "         )"
   ]
  },
  {
   "cell_type": "code",
   "execution_count": 41,
   "metadata": {
    "scrolled": true
   },
   "outputs": [
    {
     "name": "stdout",
     "output_type": "stream",
     "text": [
      "\n",
      " Working on visualization type: mesh\n",
      "\n",
      " Working on visualization type: skeleton\n"
     ]
    },
    {
     "data": {
      "application/vnd.jupyter.widget-view+json": {
       "model_id": "f0bf128b5c884d36b114156754f234ca",
       "version_major": 2,
       "version_minor": 0
      },
      "text/plain": [
       "VBox(children=(Figure(camera=PerspectiveCamera(fov=46.0, position=(0.0, 0.0, 2.0), quaternion=(0.0, 0.0, 0.0, …"
      ]
     },
     "metadata": {},
     "output_type": "display_data"
    }
   ],
   "source": [
    "nviz.visualize_neuron(current_neuron_mp,\n",
    "                      visualize_type=[\"mesh\",\"skeleton\"],\n",
    "                     limb_branch_dict=dict(L1=[3]))"
   ]
  },
  {
   "cell_type": "markdown",
   "metadata": {},
   "source": [
    "# Exporting Neuron Decompositions"
   ]
  },
  {
   "cell_type": "code",
   "execution_count": 56,
   "metadata": {},
   "outputs": [
    {
     "name": "stdout",
     "output_type": "stream",
     "text": [
      "Saving Neuorn in suppress_output mode...please wait\n",
      "Saved File at location: 90725377802114822_inhibitory_7\n"
     ]
    }
   ],
   "source": [
    "current_neuron_mp.save_compressed_neuron(\n",
    "    output_folder=\"./\",\n",
    "    export_mesh=False,\n",
    "\n",
    ")"
   ]
  },
  {
   "cell_type": "code",
   "execution_count": 59,
   "metadata": {},
   "outputs": [
    {
     "name": "stdout",
     "output_type": "stream",
     "text": [
      "Decompressing Neuron in minimal output mode...please wait\n"
     ]
    }
   ],
   "source": [
    "import neuron_utils as nru\n",
    "reloaded_neuron = nru.decompress_neuron(filepath=\"./90725377802114822_inhibitory_7\",\n",
    "                     original_mesh=neuron_mesh_file,\n",
    "                     )"
   ]
  },
  {
   "cell_type": "code",
   "execution_count": 60,
   "metadata": {},
   "outputs": [
    {
     "name": "stdout",
     "output_type": "stream",
     "text": [
      "\n",
      " Working on visualization type: mesh\n",
      "\n",
      " Working on visualization type: skeleton\n"
     ]
    },
    {
     "data": {
      "application/vnd.jupyter.widget-view+json": {
       "model_id": "79eaf91aacd24ea2afaab53a18f86959",
       "version_major": 2,
       "version_minor": 0
      },
      "text/plain": [
       "VBox(children=(Figure(camera=PerspectiveCamera(fov=46.0, position=(0.0, 0.0, 2.0), quaternion=(0.0, 0.0, 0.0, …"
      ]
     },
     "metadata": {},
     "output_type": "display_data"
    }
   ],
   "source": [
    "nviz.visualize_neuron(reloaded_neuron,\n",
    "                     visualize_type=[\"mesh\",\"skeleton\"],\n",
    "                     limb_branch_dict=\"all\")"
   ]
  },
  {
   "cell_type": "markdown",
   "metadata": {},
   "source": [
    "# MeshAfterParty (Higher Fidelity Decomposition)"
   ]
  },
  {
   "cell_type": "code",
   "execution_count": null,
   "metadata": {},
   "outputs": [],
   "source": [
    "\"\"\"\n",
    "Only difference in how you would do decomposition:\n",
    "\n",
    "current_neuron_map = neuron.Neuron(\n",
    "                 mesh=current_neuron_mesh, \n",
    "                 segment_id=seg_id,\n",
    "                 description=description,\n",
    "                 decomposition_type=\"meshafterparty\",  ******** this is the only line that is different *********\n",
    "                suppress_output=True)\n",
    "\n",
    "\n",
    "\"\"\""
   ]
  },
  {
   "cell_type": "code",
   "execution_count": 70,
   "metadata": {},
   "outputs": [
    {
     "name": "stdout",
     "output_type": "stream",
     "text": [
      "Decompressing Neuron in minimal output mode...please wait\n"
     ]
    }
   ],
   "source": [
    "#Loading a precomputed meshafterparty decomposition\n",
    "import neuron_utils as nru\n",
    "curr_neuron_map = nru.decompress_neuron(filepath=f\"../test_neurons/spine_detection/inhibitory_meshafterparty/{seg_id}_{description}_meshafterparty\",\n",
    "                     original_mesh=neuron_mesh_file,\n",
    "                     )"
   ]
  },
  {
   "cell_type": "code",
   "execution_count": 71,
   "metadata": {},
   "outputs": [
    {
     "name": "stdout",
     "output_type": "stream",
     "text": [
      "\n",
      " Working on visualization type: mesh\n",
      "\n",
      " Working on visualization type: skeleton\n"
     ]
    },
    {
     "data": {
      "application/vnd.jupyter.widget-view+json": {
       "model_id": "f8974be1288a43c598e4566bb636d2e6",
       "version_major": 2,
       "version_minor": 0
      },
      "text/plain": [
       "VBox(children=(Figure(camera=PerspectiveCamera(fov=46.0, position=(0.0, 0.0, 2.0), quaternion=(0.0, 0.0, 0.0, …"
      ]
     },
     "metadata": {},
     "output_type": "display_data"
    }
   ],
   "source": [
    "nviz.visualize_neuron(curr_neuron_map,\n",
    "                     visualize_type=[\"mesh\",\"skeleton\"],\n",
    "                     limb_branch_dict=\"all\")"
   ]
  },
  {
   "cell_type": "code",
   "execution_count": 72,
   "metadata": {},
   "outputs": [
    {
     "name": "stdout",
     "output_type": "stream",
     "text": [
      "\n",
      " Working on visualization type: mesh\n"
     ]
    },
    {
     "data": {
      "application/vnd.jupyter.widget-view+json": {
       "model_id": "2f7089a535804c97a4c1f90017b364fe",
       "version_major": 2,
       "version_minor": 0
      },
      "text/plain": [
       "VBox(children=(Figure(camera=PerspectiveCamera(fov=46.0, position=(0.0, 0.0, 2.0), quaternion=(0.0, 0.0, 0.0, …"
      ]
     },
     "metadata": {},
     "output_type": "display_data"
    }
   ],
   "source": [
    "nviz.plot_spines(curr_neuron_map)"
   ]
  },
  {
   "cell_type": "markdown",
   "metadata": {},
   "source": [
    "# Exploring Other Meshes that were already decomposed "
   ]
  },
  {
   "cell_type": "markdown",
   "metadata": {},
   "source": [
    "# -- Example 1 -- "
   ]
  },
  {
   "cell_type": "code",
   "execution_count": 75,
   "metadata": {},
   "outputs": [
    {
     "name": "stdout",
     "output_type": "stream",
     "text": [
      "Decompressing Neuron in minimal output mode...please wait\n"
     ]
    }
   ],
   "source": [
    "excitatory_file = \"97626050552733538_excitatory_9\"\n",
    "\n",
    "exc_1 = nru.decompress_neuron(filepath=f\"../test_neurons/spine_detection/excitatory_meshafterparty/{excitatory_file}_meshafterparty\",\n",
    "                     original_mesh=f\"../test_neurons/spine_detection/{excitatory_file}\",\n",
    "                     )"
   ]
  },
  {
   "cell_type": "code",
   "execution_count": 78,
   "metadata": {},
   "outputs": [
    {
     "name": "stdout",
     "output_type": "stream",
     "text": [
      "\n",
      " Working on visualization type: mesh\n",
      "\n",
      " Working on visualization type: skeleton\n"
     ]
    },
    {
     "data": {
      "application/vnd.jupyter.widget-view+json": {
       "model_id": "bfd59f12ba784afd86a311ccd572d86a",
       "version_major": 2,
       "version_minor": 0
      },
      "text/plain": [
       "VBox(children=(Figure(camera=PerspectiveCamera(fov=46.0, position=(0.0, 0.0, 2.0), quaternion=(0.0, 0.0, 0.0, …"
      ]
     },
     "metadata": {},
     "output_type": "display_data"
    }
   ],
   "source": [
    "nviz.visualize_neuron(exc_1,\n",
    "                     visualize_type=[\"mesh\",\"skeleton\"],\n",
    "                     limb_branch_dict=\"all\")"
   ]
  },
  {
   "cell_type": "code",
   "execution_count": 79,
   "metadata": {},
   "outputs": [
    {
     "name": "stdout",
     "output_type": "stream",
     "text": [
      "\n",
      " Working on visualization type: mesh\n"
     ]
    },
    {
     "data": {
      "application/vnd.jupyter.widget-view+json": {
       "model_id": "b11c2401758f4f9992f831d2ed7f79a3",
       "version_major": 2,
       "version_minor": 0
      },
      "text/plain": [
       "VBox(children=(Figure(camera=PerspectiveCamera(fov=46.0, position=(0.0, 0.0, 2.0), quaternion=(0.0, 0.0, 0.0, …"
      ]
     },
     "metadata": {},
     "output_type": "display_data"
    }
   ],
   "source": [
    "nviz.plot_spines(exc_1)"
   ]
  },
  {
   "cell_type": "markdown",
   "metadata": {},
   "source": [
    "# -- Example 2 (Ex of Merge Error)-- "
   ]
  },
  {
   "cell_type": "code",
   "execution_count": 80,
   "metadata": {},
   "outputs": [
    {
     "name": "stdout",
     "output_type": "stream",
     "text": [
      "Decompressing Neuron in minimal output mode...please wait\n"
     ]
    }
   ],
   "source": [
    "excitatory_file = \"100917645171610430_excitatory_8\"\n",
    "\n",
    "exc_2 = nru.decompress_neuron(filepath=f\"../test_neurons/spine_detection/excitatory_meshafterparty/{excitatory_file}_meshafterparty\",\n",
    "                     original_mesh=f\"../test_neurons/spine_detection/{excitatory_file}\",\n",
    "                     )"
   ]
  },
  {
   "cell_type": "code",
   "execution_count": 81,
   "metadata": {},
   "outputs": [
    {
     "name": "stdout",
     "output_type": "stream",
     "text": [
      "\n",
      " Working on visualization type: mesh\n",
      "\n",
      " Working on visualization type: skeleton\n"
     ]
    },
    {
     "data": {
      "application/vnd.jupyter.widget-view+json": {
       "model_id": "dc8de823366246fd80b4a9894a1af79e",
       "version_major": 2,
       "version_minor": 0
      },
      "text/plain": [
       "VBox(children=(Figure(camera=PerspectiveCamera(fov=46.0, position=(0.0, 0.0, 2.0), quaternion=(0.0, 0.0, 0.0, …"
      ]
     },
     "metadata": {},
     "output_type": "display_data"
    }
   ],
   "source": [
    "nviz.visualize_neuron(exc_2,\n",
    "                     visualize_type=[\"mesh\",\"skeleton\"],\n",
    "                     limb_branch_dict=\"all\")"
   ]
  },
  {
   "cell_type": "code",
   "execution_count": 82,
   "metadata": {},
   "outputs": [
    {
     "name": "stdout",
     "output_type": "stream",
     "text": [
      "\n",
      " Working on visualization type: mesh\n"
     ]
    },
    {
     "data": {
      "application/vnd.jupyter.widget-view+json": {
       "model_id": "2ea015ab1c5a4b12b797419180d4c64f",
       "version_major": 2,
       "version_minor": 0
      },
      "text/plain": [
       "VBox(children=(Figure(camera=PerspectiveCamera(fov=46.0, position=(0.0, 0.0, 2.0), quaternion=(0.0, 0.0, 0.0, …"
      ]
     },
     "metadata": {},
     "output_type": "display_data"
    }
   ],
   "source": [
    "nviz.plot_spines(exc_2)"
   ]
  },
  {
   "cell_type": "code",
   "execution_count": null,
   "metadata": {},
   "outputs": [],
   "source": []
  }
 ],
 "metadata": {
  "kernelspec": {
   "display_name": "Python 3",
   "language": "python",
   "name": "python3"
  },
  "language_info": {
   "codemirror_mode": {
    "name": "ipython",
    "version": 3
   },
   "file_extension": ".py",
   "mimetype": "text/x-python",
   "name": "python",
   "nbconvert_exporter": "python",
   "pygments_lexer": "ipython3",
   "version": "3.6.9"
  }
 },
 "nbformat": 4,
 "nbformat_minor": 4
}
